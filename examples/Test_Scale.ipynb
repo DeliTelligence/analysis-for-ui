{
 "cells": [
  {
   "cell_type": "code",
   "execution_count": 1,
   "id": "7e1f54c7-7e14-4b2a-9a00-641ba257d1be",
   "metadata": {},
   "outputs": [],
   "source": [
    "from pydecentscale import DecentScale\n",
    "import asyncio\n",
    "import nest_asyncio\n",
    "nest_asyncio.apply()\n",
    "import time"
   ]
  },
  {
   "cell_type": "code",
   "execution_count": 2,
   "id": "9c5634eb-15d2-4a3c-b773-93aca3f8a1b3",
   "metadata": {},
   "outputs": [],
   "source": [
    "#Create the DecentScale object\n",
    "ds=DecentScale()"
   ]
  },
  {
   "cell_type": "code",
   "execution_count": 3,
   "id": "484c24b4-2ac1-4eb5-88fd-f4786a3e98fe",
   "metadata": {},
   "outputs": [
    {
     "name": "stdout",
     "output_type": "stream",
     "text": [
      "Found Decent Scale: E4FD499D-BC6A-4D0C-ABD9-E96584FADF5F\n",
      "Scale connected!\n"
     ]
    },
    {
     "data": {
      "text/plain": [
       "True"
      ]
     },
     "execution_count": 3,
     "metadata": {},
     "output_type": "execute_result"
    }
   ],
   "source": [
    "#Scan and connect to the first available decent scale\n",
    "ds.auto_connect()\n",
    "\n",
    "#Alternatively you can connect with a custom address with the method ds.connect(address)"
   ]
  },
  {
   "cell_type": "code",
   "execution_count": 4,
   "id": "88be3fa7-fca9-44a9-a65b-55aa8f68577a",
   "metadata": {},
   "outputs": [
    {
     "name": "stdout",
     "output_type": "stream",
     "text": [
      "Weight value without notification enabled is: None\n"
     ]
    }
   ],
   "source": [
    "#The current weight is stored in ds.weight, however initially it is set to None\n",
    "print('Weight value without notification enabled is:', ds.weight)"
   ]
  },
  {
   "cell_type": "code",
   "execution_count": 5,
   "id": "ee584a99-6efb-4ded-b02b-7a0739e326d0",
   "metadata": {},
   "outputs": [
    {
     "name": "stdout",
     "output_type": "stream",
     "text": [
      "Enabling notifications...\n"
     ]
    }
   ],
   "source": [
    "#To read the current weight we need to first enable the BLE notifications\n",
    "print('Enabling notifications...')\n",
    "ds.enable_notification()\n",
    "time.sleep(1)"
   ]
  },
  {
   "cell_type": "code",
   "execution_count": 6,
   "id": "e0827ee3-82ce-461e-9840-282c863a0575",
   "metadata": {},
   "outputs": [
    {
     "name": "stdout",
     "output_type": "stream",
     "text": [
      "Reading values...\n",
      "current weight:-0.4\r"
     ]
    }
   ],
   "source": [
    "#Now we can read the current value, this read constinously values for 5 secondasad as fast as they arrive\n",
    "print('Reading values...')\n",
    "for i in range(50):\n",
    "    if ds.weight:\n",
    "        print('current weight:%.1f' % ds.weight, end='\\r')\n",
    "    asyncio.run( asyncio.sleep(0.1))\n"
   ]
  },
  {
   "cell_type": "code",
   "execution_count": 7,
   "id": "3131884c-5db3-461f-b889-1e5d2a473261",
   "metadata": {
    "tags": []
   },
   "outputs": [
    {
     "name": "stdout",
     "output_type": "stream",
     "text": [
      "Testing led display...\n"
     ]
    }
   ],
   "source": [
    "print('Testing led display...')\n",
    "\n",
    "#Turn the led display on\n",
    "ds.led_on()\n",
    "time.sleep(1)"
   ]
  },
  {
   "cell_type": "code",
   "execution_count": 8,
   "id": "9321f56e-d8e4-473c-b102-144f7660e243",
   "metadata": {},
   "outputs": [],
   "source": [
    "#Turn the led display off\n",
    "ds.led_off()\n",
    "time.sleep(1)"
   ]
  },
  {
   "cell_type": "code",
   "execution_count": 9,
   "id": "f56541fd-2383-41e1-82d8-b4b08eaf2eab",
   "metadata": {},
   "outputs": [],
   "source": [
    "#Let's turn it back on so we can see the timer\n",
    "ds.led_on()\n",
    "time.sleep(1)"
   ]
  },
  {
   "cell_type": "code",
   "execution_count": 10,
   "id": "8e4f69c9-c81c-4d98-b0ab-23213702764a",
   "metadata": {},
   "outputs": [
    {
     "name": "stdout",
     "output_type": "stream",
     "text": [
      "Testing tare fuction...\n"
     ]
    }
   ],
   "source": [
    "print('Testing tare fuction...')\n",
    "#Tare the scale\n",
    "ds.tare()\n",
    "time.sleep(1)"
   ]
  },
  {
   "cell_type": "code",
   "execution_count": 11,
   "id": "a7589315-8773-4228-9681-ff7c1461b040",
   "metadata": {},
   "outputs": [
    {
     "name": "stdout",
     "output_type": "stream",
     "text": [
      "Testing timer...\n"
     ]
    }
   ],
   "source": [
    "print('Testing timer...')\n",
    "#Start the timer\n",
    "ds.start_time()\n",
    "time.sleep(5)"
   ]
  },
  {
   "cell_type": "code",
   "execution_count": 12,
   "id": "81392d6a-2767-4207-a643-7cb50cf633a9",
   "metadata": {},
   "outputs": [],
   "source": [
    "#Stop the timer\n",
    "ds.stop_time()\n",
    "time.sleep(1)"
   ]
  },
  {
   "cell_type": "code",
   "execution_count": 13,
   "id": "53624cc4-d247-4e80-80b4-5ff2455be1c7",
   "metadata": {},
   "outputs": [],
   "source": [
    "#Reset the timer\n",
    "ds.reset_time()\n",
    "time.sleep(1)"
   ]
  },
  {
   "cell_type": "code",
   "execution_count": 14,
   "id": "83e3925e-b900-4a13-bd21-a24000ceadc7",
   "metadata": {},
   "outputs": [],
   "source": [
    "#This disable the BLE notifications for reading the weight\n",
    "ds.disable_notification()\n",
    "time.sleep(1)"
   ]
  },
  {
   "cell_type": "code",
   "execution_count": 15,
   "id": "a9c321bc-bcb7-4860-986e-9093fb33b477",
   "metadata": {},
   "outputs": [
    {
     "name": "stdout",
     "output_type": "stream",
     "text": [
      "Disconnecting...\n"
     ]
    },
    {
     "data": {
      "text/plain": [
       "False"
      ]
     },
     "execution_count": 15,
     "metadata": {},
     "output_type": "execute_result"
    }
   ],
   "source": [
    "print('Disconnecting...')\n",
    "#Finally we can disconnect\n",
    "ds.disconnect()"
   ]
  },
  {
   "cell_type": "code",
   "execution_count": 16,
   "id": "a5f4d3d2-6f1f-4731-ab07-aafc71c660ce",
   "metadata": {},
   "outputs": [
    {
     "name": "stdout",
     "output_type": "stream",
     "text": [
      "All done. Ciao!\n"
     ]
    }
   ],
   "source": [
    "print('All done. Ciao!')"
   ]
  },
  {
   "cell_type": "code",
   "execution_count": null,
   "id": "82826696-c947-472e-b3ae-eb232bb19aae",
   "metadata": {},
   "outputs": [],
   "source": []
  }
 ],
 "metadata": {
  "kernelspec": {
   "display_name": "Python 3 (ipykernel)",
   "language": "python",
   "name": "python3"
  },
  "language_info": {
   "codemirror_mode": {
    "name": "ipython",
    "version": 3
   },
   "file_extension": ".py",
   "mimetype": "text/x-python",
   "name": "python",
   "nbconvert_exporter": "python",
   "pygments_lexer": "ipython3",
   "version": "3.9.6"
  }
 },
 "nbformat": 4,
 "nbformat_minor": 5
}
